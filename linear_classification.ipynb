{
 "cells": [
  {
   "cell_type": "code",
   "execution_count": 1,
   "id": "b5dffe66",
   "metadata": {},
   "outputs": [],
   "source": [
    "##importing libs\n",
    "import numpy as np\n",
    "import matplotlib.pyplot as plt"
   ]
  },
  {
   "cell_type": "code",
   "execution_count": 2,
   "id": "60d651d8",
   "metadata": {},
   "outputs": [],
   "source": [
    "## random values for reproducibility\n",
    "np.random.seed(0)"
   ]
  },
  {
   "cell_type": "code",
   "execution_count": 3,
   "id": "07797ac5",
   "metadata": {},
   "outputs": [],
   "source": [
    "##Dogs data\n",
    "dog_whisker_length= np.random.normal(loc=5, scale=1, size=10)\n",
    "dog_ear_flappiness= np.random.normal(loc=8, scale=1, size=10)"
   ]
  },
  {
   "cell_type": "code",
   "execution_count": 4,
   "id": "a6b1abfc",
   "metadata": {},
   "outputs": [
    {
     "data": {
      "text/plain": [
       "array([6.76405235, 5.40015721, 5.97873798, 7.2408932 , 6.86755799,\n",
       "       4.02272212, 5.95008842, 4.84864279, 4.89678115, 5.4105985 ])"
      ]
     },
     "execution_count": 4,
     "metadata": {},
     "output_type": "execute_result"
    }
   ],
   "source": [
    "dog_whisker_length"
   ]
  },
  {
   "cell_type": "code",
   "execution_count": 5,
   "id": "68ae3580",
   "metadata": {},
   "outputs": [],
   "source": [
    "##Cats data\n",
    "cat_whisker_length= np.random.normal(loc=8, scale=1, size=10)\n",
    "cat_ear_flappiness= np.random.normal(loc=5, scale=1, size=10)"
   ]
  },
  {
   "cell_type": "code",
   "execution_count": 6,
   "id": "99ef6c7d",
   "metadata": {},
   "outputs": [
    {
     "data": {
      "image/png": "[encoded data removed]",
      "text/plain": [
       "<Figure size 640x480 with 1 Axes>"
      ]
     },
     "metadata": {},
     "output_type": "display_data"
    }
   ],
   "source": [
    "#Plotting data\n",
    "plt.scatter(dog_whisker_length, dog_ear_flappiness, label='Dogs')\n",
    "plt.scatter(cat_whisker_length, cat_ear_flappiness, label='Cats')\n",
    "plt.xlabel('Whisker Length')\n",
    "plt.ylabel('Ear Flappiness')\n",
    "plt.title('Cat vs Dog classification')\n",
    "plt.legend()\n",
    "plt.show()"
   ]
  },
  {
   "cell_type": "code",
   "execution_count": 7,
   "id": "9b237772",
   "metadata": {},
   "outputs": [],
   "source": [
    "def compute_error(data_dogs,data_cats,theta,theta0):\n",
    "    error=0\n",
    "\n",
    "    for x_dogs in data_dogs:\n",
    "        if np.dot(theta,x_dogs)+theta0<0:\n",
    "            error+=1\n",
    "\n",
    "    for x_cats in data_cats:\n",
    "        if np.dot(theta,x_cats)+theta0>0:\n",
    "            error+=1\n",
    "\n",
    "    return error"
   ]
  },
  {
   "cell_type": "code",
   "execution_count": 8,
   "id": "c5934ee5",
   "metadata": {},
   "outputs": [],
   "source": [
    "#Random linear classifier algorithm\n",
    "def random_linear_classifier(data_dogs,data_cats,k,d):\n",
    "    best_error = float('inf')\n",
    "    best_theta=None\n",
    "    best_theta0=None\n",
    "\n",
    "    for i in range(k):\n",
    "        theta=np.random.normal(size=d)\n",
    "        theta0=np.random.normal()\n",
    "\n",
    "\n",
    "        error=compute_error(data_dogs,data_cats,theta,theta0)\n",
    "\n",
    "        if error<best_error:\n",
    "            best_error=error\n",
    "            best_theta=theta\n",
    "            best_theta0=theta0\n",
    "\n",
    "    return best_theta,best_theta0"
   ]
  },
  {
   "cell_type": "code",
   "execution_count": 9,
   "id": "35f0564b",
   "metadata": {},
   "outputs": [],
   "source": [
    "# prepare data for the classifier\n",
    "data_dogs= np.vstack((dog_whisker_length, dog_ear_flappiness)).T\n",
    "data_cats= np.vstack((cat_whisker_length, cat_ear_flappiness)).T"
   ]
  },
  {
   "cell_type": "code",
   "execution_count": 10,
   "id": "1f1d7e3f",
   "metadata": {},
   "outputs": [
    {
     "data": {
      "text/plain": [
       "array([[6.76405235, 8.14404357],\n",
       "       [5.40015721, 9.45427351],\n",
       "       [5.97873798, 8.76103773],\n",
       "       [7.2408932 , 8.12167502],\n",
       "       [6.86755799, 8.44386323],\n",
       "       [4.02272212, 8.33367433],\n",
       "       [5.95008842, 9.49407907],\n",
       "       [4.84864279, 7.79484174],\n",
       "       [4.89678115, 8.3130677 ],\n",
       "       [5.4105985 , 7.14590426]])"
      ]
     },
     "execution_count": 10,
     "metadata": {},
     "output_type": "execute_result"
    }
   ],
   "source": [
    "data_dogs"
   ]
  },
  {
   "cell_type": "code",
   "execution_count": 11,
   "id": "c0c42adb",
   "metadata": {},
   "outputs": [
    {
     "data": {
      "text/plain": [
       "array([[ 5.44701018,  5.15494743],\n",
       "       [ 8.6536186 ,  5.37816252],\n",
       "       [ 8.8644362 ,  4.11221425],\n",
       "       [ 7.25783498,  3.01920353],\n",
       "       [10.26975462,  4.65208785],\n",
       "       [ 6.54563433,  5.15634897],\n",
       "       [ 8.04575852,  6.23029068],\n",
       "       [ 7.81281615,  6.20237985],\n",
       "       [ 9.53277921,  4.61267318],\n",
       "       [ 9.46935877,  4.69769725]])"
      ]
     },
     "execution_count": 11,
     "metadata": {},
     "output_type": "execute_result"
    }
   ],
   "source": [
    "data_cats"
   ]
  },
  {
   "cell_type": "code",
   "execution_count": 12,
   "id": "5e4cf506",
   "metadata": {},
   "outputs": [],
   "source": [
    "#Run rando linear classifier\n",
    "k=500\n",
    "d=2\n",
    "best_theta,best_theta0=random_linear_classifier(data_dogs,data_cats,k,d)"
   ]
  },
  {
   "cell_type": "code",
   "execution_count": 13,
   "id": "03535c40",
   "metadata": {},
   "outputs": [
    {
     "data": {
      "text/plain": [
       "-0.40317694697317963"
      ]
     },
     "execution_count": 13,
     "metadata": {},
     "output_type": "execute_result"
    }
   ],
   "source": [
    "best_theta0"
   ]
  },
  {
   "cell_type": "code",
   "execution_count": 14,
   "id": "541bc984",
   "metadata": {},
   "outputs": [
    {
     "data": {
      "text/plain": [
       "array([-1.07075262,  1.05445173])"
      ]
     },
     "execution_count": 14,
     "metadata": {},
     "output_type": "execute_result"
    }
   ],
   "source": [
    "best_theta"
   ]
  },
  {
   "cell_type": "code",
   "execution_count": 15,
   "id": "d2ce0ce6",
   "metadata": {},
   "outputs": [],
   "source": [
    "#Desicision boundary\n",
    "x1 = np.linspace(0, 10, 1000)\n",
    "y1=(-best_theta[0]/best_theta[1])*x1 - (best_theta0/best_theta[1])"
   ]
  },
  {
   "cell_type": "code",
   "execution_count": 16,
   "id": "e060ceff",
   "metadata": {},
   "outputs": [
    {
     "data": {
      "image/png": "[encoded data removed]",
      "text/plain": [
       "<Figure size 640x480 with 1 Axes>"
      ]
     },
     "metadata": {},
     "output_type": "display_data"
    }
   ],
   "source": [
    "plt.scatter(dog_whisker_length, dog_ear_flappiness, label='Dogs')\n",
    "plt.scatter(cat_whisker_length, cat_ear_flappiness, label='Cats')\n",
    "plt.plot(x1, y1, color='red',linestyle='--' ,label='Decision Boundary')\n",
    "plt.show()"
   ]
  }
 ],
 "metadata": {
  "kernelspec": {
   "display_name": "Python 3",
   "language": "python",
   "name": "python3"
  },
  "language_info": {
   "codemirror_mode": {
    "name": "ipython",
    "version": 3
   },
   "file_extension": ".py",
   "mimetype": "text/x-python",
   "name": "python",
   "nbconvert_exporter": "python",
   "pygments_lexer": "ipython3",
   "version": "3.13.3"
  }
 },
 "nbformat": 4,
 "nbformat_minor": 5
}
